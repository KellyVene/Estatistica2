{
 "cells": [
  {
   "cell_type": "markdown",
   "metadata": {},
   "source": [
    " ___\n",
    "# ALPHA = P(erro I) e BETA = Prob(erro II)\n",
    "___\n"
   ]
  },
  {
   "cell_type": "code",
   "execution_count": 3,
   "metadata": {
    "collapsed": true
   },
   "outputs": [],
   "source": [
    "%matplotlib inline\n",
    "%reset -f\n",
    "\n",
    "from __future__ import print_function\n",
    "from ipywidgets import interact, interactive, fixed, interact_manual\n",
    "import ipywidgets as widgets\n",
    "\n",
    "import matplotlib.pyplot as plt\n",
    "import pandas as pd\n",
    "import numpy as np\n",
    "from scipy import stats"
   ]
  },
  {
   "cell_type": "code",
   "execution_count": 4,
   "metadata": {
    "slideshow": {
     "slide_type": "notes"
    }
   },
   "outputs": [
    {
     "data": {
      "application/vnd.jupyter.widget-view+json": {
       "model_id": "2b7ac8fe44b84cb98e1bfdbf93297323",
       "version_major": 2,
       "version_minor": 0
      },
      "text/html": [
       "<p>Failed to display Jupyter Widget of type <code>interactive</code>.</p>\n",
       "<p>\n",
       "  If you're reading this message in Jupyter Notebook or JupyterLab, it may mean\n",
       "  that the widgets JavaScript is still loading. If this message persists, it\n",
       "  likely means that the widgets JavaScript library is either not installed or\n",
       "  not enabled. See the <a href=\"https://ipywidgets.readthedocs.io/en/stable/user_install.html\">Jupyter\n",
       "  Widgets Documentation</a> for setup instructions.\n",
       "</p>\n",
       "<p>\n",
       "  If you're reading this message in another notebook frontend (for example, a static\n",
       "  rendering on GitHub or <a href=\"https://nbviewer.jupyter.org/\">NBViewer</a>),\n",
       "  it may mean that your frontend doesn't currently support widgets.\n",
       "</p>\n"
      ],
      "text/plain": [
       "interactive(children=(FloatSlider(value=3.3, description='mu1', max=3.8, min=3.0), FloatSlider(value=0.01, description='alpha', max=0.1, min=0.01, step=0.01), Output()), _dom_classes=('widget-interact',))"
      ]
     },
     "metadata": {},
     "output_type": "display_data"
    }
   ],
   "source": [
    "# Exercício 2\n",
    "\n",
    "#Função que utiliza o pywidget\n",
    "@interact(alpha = (0.01, 0.1, 0.01), mu1 = (3,3.8,0.1))\n",
    "def f(mu1 = '3.3', alpha=0.01):\n",
    "    \n",
    "    n = 100\n",
    "    sigma = 0.7\n",
    "    \n",
    "    mu0 = 3\n",
    "\n",
    "    fig = plt.figure(figsize=(15,5))\n",
    "    ax1 = fig.add_subplot(111)\n",
    "    \n",
    "    #Fit NORMAL sob H0\n",
    "    x = np.arange(2.5, 4, 0.01)\n",
    "    xcritico = stats.norm.ppf(1-alpha, loc = mu0, scale=sigma/n**0.5)\n",
    "    \n",
    "    ax1.plot(x, stats.norm.pdf(x, loc = mu0, scale = sigma/n**0.5), color = 'b')\n",
    "    ax1.fill_between(x,stats.norm.pdf(x, loc = mu0, scale = sigma/n**0.5), where = x >= xcritico, color='b')\n",
    "    ax1.plot(x, stats.norm.pdf(x, loc = mu1, scale = sigma/n**0.5), color = 'r')\n",
    "    ax1.fill_between(x,stats.norm.pdf(x, loc = mu1, scale = sigma/n**0.5), where = x <=xcritico, color='r')\n",
    "    \n",
    "    ax1.axvline(x=xcritico, color='g', lw=4)    \n",
    "    \n",
    "    ax1.set_xlabel(\"Médias amostrais\")\n",
    "    ax1.legend((\"Sob H0\", \"Sob H1\", \"xcritico\"))\n",
    "    return \"xcritico: {0:0.4f}, beta: {1:0.4f}\".format(xcritico,stats.norm.cdf(xcritico, loc = mu1, scale = sigma/n**0.5))"
   ]
  },
  {
   "cell_type": "code",
   "execution_count": null,
   "metadata": {
    "collapsed": true
   },
   "outputs": [],
   "source": []
  }
 ],
 "metadata": {
  "kernelspec": {
   "display_name": "Python 3",
   "language": "python",
   "name": "python3"
  },
  "language_info": {
   "codemirror_mode": {
    "name": "ipython",
    "version": 3
   },
   "file_extension": ".py",
   "mimetype": "text/x-python",
   "name": "python",
   "nbconvert_exporter": "python",
   "pygments_lexer": "ipython3",
   "version": "3.6.1"
  }
 },
 "nbformat": 4,
 "nbformat_minor": 1
}
